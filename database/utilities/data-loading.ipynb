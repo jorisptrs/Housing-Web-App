{
 "cells": [
  {
   "cell_type": "code",
   "execution_count": null,
   "metadata": {},
   "outputs": [],
   "source": [
    "import pandas as pd\n",
    "import os"
   ]
  },
  {
   "cell_type": "code",
   "execution_count": null,
   "metadata": {},
   "outputs": [],
   "source": [
    "#path from which the data can be loaded into mysql database\n",
    "MYSQL_PATH = r'C:\\ProgramData\\MySQL\\MySQL Server 8.0\\Data\\kamernet_properties'\n",
    "\n",
    "cwd = os.getcwd()\n",
    "\n",
    "ROOT = os.path.realpath(os.path.join(cwd, '..'))\n",
    "CSV_FILES = os.path.join(os.path.join(ROOT, \"csv-files\"))\n",
    "DATA_PATH = 'original-dataset/properties.json'"
   ]
  },
  {
   "cell_type": "markdown",
   "metadata": {},
   "source": [
    "### Load dataset into a dataframe"
   ]
  },
  {
   "cell_type": "code",
   "execution_count": null,
   "metadata": {},
   "outputs": [],
   "source": [
    "df = pd.read_json(os.path.join(ROOT, DATA_PATH), lines= True)"
   ]
  },
  {
   "cell_type": "code",
   "execution_count": null,
   "metadata": {},
   "outputs": [],
   "source": [
    "df[\"isRoomActive\"].unique()"
   ]
  },
  {
   "cell_type": "markdown",
   "metadata": {},
   "source": [
    "### Get data for cities model"
   ]
  },
  {
   "cell_type": "code",
   "execution_count": null,
   "metadata": {},
   "outputs": [],
   "source": [
    "df_cities = df[\"city\"]\n",
    "df_cities.drop_duplicates(inplace=True)\n",
    "df_cities = df_cities.sort_values()\n",
    "df_cities = df_cities.reset_index(drop=True)\n",
    "df_cities"
   ]
  },
  {
   "cell_type": "markdown",
   "metadata": {},
   "source": [
    "Seems like there is \"amsterdam\" with lowercase letter at the beginning -> fix needed, but there are other priorities at the moment"
   ]
  },
  {
   "cell_type": "code",
   "execution_count": null,
   "metadata": {},
   "outputs": [],
   "source": [
    "with open('..\\DBschema&data\\cities-insert.sql', 'w') as f:\n",
    "    f.write(\"INSERT INTO kamernet_properties.cities (name)\\nVALUES\\n\")\n",
    "    for index, element in df_cities.iteritems():\n",
    "        f.write(f\"\"\"(\"{element}\")\"\"\")\n",
    "        if index != df_cities.size-1:\n",
    "            f.write(\",\\n\")\n",
    "        else:\n",
    "            f.write(\";\")"
   ]
  },
  {
   "cell_type": "code",
   "execution_count": null,
   "metadata": {},
   "outputs": [],
   "source": [
    "# filename = 'cities.csv'\n",
    "# # default separator is \",\"\n",
    "# # save to mysql server, without heading\n",
    "# df_cities.to_csv(os.path.join(MYSQL_PATH, filename), header=False)\n",
    "# # save to csv-files folder for reference, without heading\n",
    "# df_cities.to_csv(os.path.join(CSV_FILES, filename), header=False)"
   ]
  },
  {
   "cell_type": "markdown",
   "metadata": {},
   "source": [
    "### Get data for the Cost"
   ]
  },
  {
   "cell_type": "code",
   "execution_count": null,
   "metadata": {},
   "outputs": [],
   "source": [
    "df.columns"
   ]
  },
  {
   "cell_type": "code",
   "execution_count": null,
   "metadata": {},
   "outputs": [],
   "source": [
    "df_cost = df[[\"externalId\",\"rent\", \"additionalCosts\", \"deposit\"]]\n",
    "#if there there is something missing replace with 0, this is most often the case with additional costs\n",
    "df_cost = df_cost.fillna(0)\n",
    "df_cost"
   ]
  },
  {
   "cell_type": "code",
   "execution_count": null,
   "metadata": {},
   "outputs": [],
   "source": [
    "with open('..\\DBschema&data\\costs-insert.sql', 'w') as f:\n",
    "    f.write(\"INSERT INTO kamernet_properties.costs (propertyID, rent, additionalCosts, deposit)\\nVALUES\\n\")\n",
    "    for idx, row in df_cost.iterrows():\n",
    "        f.write(f\"\"\"(\"{row[0]}\", {row[1]}, {row[2]}, {row[3]})\"\"\")\n",
    "        if idx != df_cost.shape[0]-1:\n",
    "            f.write(\",\\n\")\n",
    "        else:\n",
    "            f.write(\";\")"
   ]
  },
  {
   "cell_type": "markdown",
   "metadata": {},
   "source": [
    "### Get data for the Location"
   ]
  },
  {
   "cell_type": "code",
   "execution_count": null,
   "metadata": {},
   "outputs": [],
   "source": [
    "df_location = df[[\"externalId\",\"longitude\", \"latitude\"]]\n",
    "df_c = df[\"city\"]\n",
    "mapping = {value: index+1 for index, value in df_cities.iteritems()}\n",
    "df_c = df_c.replace(mapping)\n",
    "df_location = df_location.assign(cityID=df_c)\n",
    "df_location[\"longitude\"].unique()"
   ]
  },
  {
   "cell_type": "code",
   "execution_count": null,
   "metadata": {},
   "outputs": [],
   "source": [
    "with open('..\\DBschema&data\\locations-insert.sql', 'w') as f:\n",
    "    f.write(\"INSERT INTO kamernet_properties.locations (propertyID, longitude, latitude, cityID)\\nVALUES\\n\")\n",
    "    for idx, row in df_location.iterrows():\n",
    "        f.write(f\"\"\"(\"{row[0]}\", {row[1]}, {row[2]}, {row[3]})\"\"\")\n",
    "        if idx != df_location.shape[0]-1:\n",
    "            f.write(\",\\n\")\n",
    "        else:\n",
    "            f.write(\";\")"
   ]
  },
  {
   "cell_type": "markdown",
   "metadata": {},
   "source": [
    "### Get data for the Property"
   ]
  },
  {
   "cell_type": "code",
   "execution_count": null,
   "metadata": {},
   "outputs": [],
   "source": [
    "df_property = df[[\"externalId\", \"isRoomActive\", \"areaSqm\", \"gender\", \"furnish\", \"coverImageUrl\"]]\n",
    "# leave them as strings\n",
    "# mapping = {\"Unfurnished\": \"false\", \"Furnished\": \"true\"}\n",
    "# df_property = df_property.replace({\"furnish\": mapping})\n",
    "df_property[\"furnish\"] = df_property[\"furnish\"].fillna(\"Unknown\")\n",
    "# if isRoomActive is missing then the default value will be false\n",
    "df_property[\"isRoomActive\"] = df_property[\"isRoomActive\"].fillna(\"false\")\n",
    "df_property = df_property.replace('', \"Unknown\")\n",
    "df_property = df_property.merge(df_cost)\n",
    "df_property = df_property.merge(df_location)\n",
    "df_property[\"rentPerAreaSqm\"] = df_property[\"rent\"] / df_property[\"areaSqm\"]\n",
    "print(df_property[\"isRoomActive\"].unique())"
   ]
  },
  {
   "cell_type": "code",
   "execution_count": null,
   "metadata": {},
   "outputs": [],
   "source": [
    "with open('..\\sql\\properties-insert.sql', 'w') as f:\n",
    "    f.write(\"INSERT INTO kamernet_properties.properties (propertyID, isRoomActive, areaSqm, gender, furnished, coverImageUrl, Cost_Rent, Cost_AdditionalCost, Cost_Deposit, Cost_RentPerAreaSqm, Location_Longitude, Location_Latitude, cityID)\\nVALUES\\n\")\n",
    "    for idx, row in df_property.iterrows():\n",
    "        f.write(f\"\"\"(\"{row[0]}\", {row[1]}, {row[2]}, \"{row[3]}\", \"{row[4]}\", \"{row[5]}\", {row[6]}, {row[7]}, {row[8]}, {row[12]}, {row[9]}, {row[10]}, {row[11]})\"\"\")\n",
    "        if idx != df_property.shape[0]-1:\n",
    "            f.write(\",\\n\")\n",
    "        else:\n",
    "            f.write(\";\")"
   ]
  }
 ],
 "metadata": {
  "interpreter": {
   "hash": "4c5f30e39d9225e9e5b271b965dad044f99359c2b121db9d629b6158260c54a4"
  },
  "kernelspec": {
   "display_name": "Python 3.9.1 64-bit",
   "language": "python",
   "name": "python3"
  },
  "language_info": {
   "codemirror_mode": {
    "name": "ipython",
    "version": 3
   },
   "file_extension": ".py",
   "mimetype": "text/x-python",
   "name": "python",
   "nbconvert_exporter": "python",
   "pygments_lexer": "ipython3",
   "version": "3.9.1"
  },
  "orig_nbformat": 4
 },
 "nbformat": 4,
 "nbformat_minor": 2
}
